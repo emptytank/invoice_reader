{
 "cells": [
  {
   "cell_type": "code",
   "execution_count": 36,
   "metadata": {},
   "outputs": [],
   "source": [
    "# Import libraries\n",
    "import streamlit as st\n",
    "import os\n",
    "import PyPDF2\n",
    "from langchain import OpenAI, PromptTemplate, LLMChain"
   ]
  },
  {
   "cell_type": "code",
   "execution_count": 37,
   "id": "515464c2",
   "metadata": {},
   "outputs": [],
   "source": [
    "# Get OpenAI API key and set it as an environment variable\n",
    "st.write(\"OPENAI_API_KEY: \", st.secrets[\"OPENAI_API_KEY\"])\n",
    "st.write(os.environ['OPENAI_API_KEY'] == st.secrets[\"OPENAI_API_KEY\"])"
   ]
  },
  {
   "cell_type": "code",
   "execution_count": 39,
   "id": "5bad4e61",
   "metadata": {},
   "outputs": [],
   "source": [
    "# Set path for pdf file\n",
    "path = \"./src/Invoice1.pdf\""
   ]
  },
  {
   "cell_type": "code",
   "execution_count": 40,
   "id": "c502545f",
   "metadata": {},
   "outputs": [],
   "source": [
    "read_pdf = PyPDF2.PdfReader(path)\n",
    "page = read_pdf.pages[0]\n",
    "page_content = page.extract_text()"
   ]
  },
  {
   "cell_type": "code",
   "execution_count": 48,
   "id": "839998ec",
   "metadata": {},
   "outputs": [
    {
     "name": "stdout",
     "output_type": "stream",
     "text": [
      "\n",
      "\n",
      "\u001b[1m> Entering new LLMChain chain...\u001b[0m\n",
      "\u001b[32;1m\u001b[1;3mPrompt after formatting:\n",
      "\u001b[32;1m\u001b[1;3mYou are an Accounts Payable Manager who is responsible for reviewing, approving invoices and entering them into the accounting system.\n",
      "You are reviewing the following invoice and are asked a question about the invoice. Here are the contents of the invoice you are reviewing: Automation Anywhere, Inc.\n",
      "633 River Oaks Parkway, San Jose, CA95134, USA\n",
      "Tel: (509) 222-1234\n",
      "Sold to Ship to Invoice no.\n",
      "Ultron Inc.\n",
      "1801 Toldeo Beach Rd #1189\n",
      "La Salle, Ml 48145\n",
      "1019Ultron Inc. - Receiving Dock\n",
      "6395 N Russel Rd\n",
      "Oak Harbor, OH 4344910266\n",
      "Invoice Date\n",
      "22 Aug 2018\n",
      "Purchase Order\n",
      "26523\n",
      "Quantity Item no. Description Unit Price TaxAmount \n",
      "15 1011 Sprocket - Large 38.50 G 577.50\n",
      "15 1010 Sprocket - Med 18.95 G 284.25\n",
      "15 1009 Sprocket - Small 8.90 G 133.50\n",
      "Subtotal 995.25\n",
      "Taxi (GST) @ 7% 69.67\n",
      "Invoice Amount 1,064.92\n",
      "$\n",
      "Terms: 2% 10 Net 30\n",
      "Explain your reasoning for the answer you provide on the invoice. Question: What is the total amount of the invoice?\u001b[0m\u001b[0m\n",
      "\n",
      "\u001b[1m> Finished chain.\u001b[0m\n"
     ]
    },
    {
     "data": {
      "text/plain": [
       "'\\n\\nAnswer: The total amount of the invoice is $1,064.92. This amount is calculated by adding the subtotal of $995.25 to the tax amount of $69.67. The subtotal is calculated by multiplying the unit price of each item by the quantity of each item. The tax amount is calculated by multiplying the subtotal by the tax rate of 7%.'"
      ]
     },
     "execution_count": 48,
     "metadata": {},
     "output_type": "execute_result"
    }
   ],
   "source": [
    "template = \"\"\"You are an Accounts Payable Manager who is responsible for reviewing, approving invoices and entering them into the accounting system.\n",
    "You are reviewing the following invoice and are asked a question about the invoice. Here are the contents of the invoice you are reviewing: {page_content}\n",
    "Explain your reasoning for the answer you provide on the invoice. Question: {question}\"\"\"\n",
    "\n",
    "prompt = PromptTemplate(\n",
    "    input_variables=[\"page_content\", \"question\"],\n",
    "    template=template\n",
    ")\n",
    "\n",
    "llm_chain = LLMChain(\n",
    "    prompt=prompt,\n",
    "    llm=OpenAI(model_name=\"text-davinci-003\", temperature=0),\n",
    "    verbose=True\n",
    ")\n",
    "\n",
    "question = \"What is the total amount of the invoice?\"\n",
    "\n",
    "llm_chain.predict(page_content=page_content, question=question)"
   ]
  },
  {
   "cell_type": "code",
   "execution_count": null,
   "id": "caf90031",
   "metadata": {},
   "outputs": [],
   "source": []
  }
 ],
 "metadata": {
  "kernelspec": {
   "display_name": "invoice_reader",
   "language": "python",
   "name": "invoice_reader"
  },
  "language_info": {
   "codemirror_mode": {
    "name": "ipython",
    "version": 3
   },
   "file_extension": ".py",
   "mimetype": "text/x-python",
   "name": "python",
   "nbconvert_exporter": "python",
   "pygments_lexer": "ipython3",
   "version": "3.11.1"
  },
  "vscode": {
   "interpreter": {
    "hash": "8db5dfc92e39a440fadf2ca52a64dc73c46cf600435351f1ead7ec128712423c"
   }
  }
 },
 "nbformat": 4,
 "nbformat_minor": 5
}
