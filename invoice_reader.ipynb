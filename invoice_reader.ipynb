{
 "cells": [
  {
   "cell_type": "code",
   "execution_count": 1,
   "metadata": {},
   "outputs": [],
   "source": [
    "# Import libraries\n",
    "import streamlit as st\n",
    "import os\n",
    "import PyPDF2\n",
    "from langchain import OpenAI, PromptTemplate, LLMChain"
   ]
  },
  {
   "cell_type": "code",
   "execution_count": 2,
   "id": "515464c2",
   "metadata": {},
   "outputs": [
    {
     "data": {
      "text/plain": [
       "False"
      ]
     },
     "execution_count": 2,
     "metadata": {},
     "output_type": "execute_result"
    }
   ],
   "source": [
    "# Get OpenAI API key and set it as an environment variable\n",
    "os.getenv(\"OPENAI_API_KEY\") == st.secrets[\"OPENAI_API_KEY\"]"
   ]
  },
  {
   "cell_type": "code",
   "execution_count": 3,
   "id": "5bad4e61",
   "metadata": {},
   "outputs": [],
   "source": [
    "# Set path for pdf file\n",
    "path = \"./src/Invoice1.pdf\""
   ]
  },
  {
   "cell_type": "code",
   "execution_count": 4,
   "id": "c502545f",
   "metadata": {},
   "outputs": [],
   "source": [
    "read_pdf = PyPDF2.PdfReader(path)\n",
    "page = read_pdf.pages[0]\n",
    "pdf_contents = page.extract_text()"
   ]
  },
  {
   "cell_type": "code",
   "execution_count": 5,
   "id": "839998ec",
   "metadata": {},
   "outputs": [
    {
     "name": "stdout",
     "output_type": "stream",
     "text": [
      "\n",
      "\n",
      "\u001b[1m> Entering new LLMChain chain...\u001b[0m\n",
      "\u001b[32;1m\u001b[1;3mPrompt after formatting:\n",
      "\u001b[32;1m\u001b[1;3mYou are an Accounts Payable Manager who is responsible for reviewing, approving invoices and entering them into the accounting system.\n",
      "You are reviewing the following invoice and are asked a question about the invoice. Here are the contents of the invoice you are reviewing: Automation Anywhere, Inc.\n",
      "633 River Oaks Parkway, San Jose, CA95134, USA\n",
      "Tel: (509) 222-1234\n",
      "Sold to Ship to Invoice no.\n",
      "Ultron Inc.\n",
      "1801 Toldeo Beach Rd #1189\n",
      "La Salle, Ml 48145\n",
      "1019Ultron Inc. - Receiving Dock\n",
      "6395 N Russel Rd\n",
      "Oak Harbor, OH 4344910266\n",
      "Invoice Date\n",
      "22 Aug 2018\n",
      "Purchase Order\n",
      "26523\n",
      "Quantity Item no. Description Unit Price TaxAmount \n",
      "15 1011 Sprocket - Large 38.50 G 577.50\n",
      "15 1010 Sprocket - Med 18.95 G 284.25\n",
      "15 1009 Sprocket - Small 8.90 G 133.50\n",
      "Subtotal 995.25\n",
      "Taxi (GST) @ 7% 69.67\n",
      "Invoice Amount 1,064.92\n",
      "$\n",
      "Terms: 2% 10 Net 30\n",
      "All information after the purchase order number is in a tabular format. Explain your reasoning for the answer you provide on the invoice. Question: What percentage of the total cost of the invoice is from large sprockets?\u001b[0m\u001b[0m\n",
      "\n",
      "\u001b[1m> Finished chain.\u001b[0m\n"
     ]
    },
    {
     "data": {
      "text/plain": [
       "'\\n\\nThe percentage of the total cost of the invoice that is from large sprockets is 58.2%. This is calculated by taking the total cost of the large sprockets (577.50) and dividing it by the total invoice amount (1064.92). This gives us 0.542, which is equivalent to 58.2%.'"
      ]
     },
     "execution_count": 5,
     "metadata": {},
     "output_type": "execute_result"
    }
   ],
   "source": [
    "template = \"\"\"You are an Accounts Payable Manager who is responsible for reviewing and approving invoices.\n",
    "You are reviewing the following invoice and are asked a question about the invoice. Here are the contents of the invoice you are reviewing: {pdf_contents}\n",
    "All information after the purchase order number is in a tabular format.\n",
    "If the question requires you to perform any calculations, perform the calculations first before providing an answer.\n",
    "Explain your reasoning for the answer you provide on the invoice.\n",
    "Question: {question}\"\"\"\n",
    "\n",
    "prompt = PromptTemplate(\n",
    "    input_variables=[\"pdf_contents\", \"question\"],\n",
    "    template=template\n",
    ")\n",
    "\n",
    "llm_chain = LLMChain(\n",
    "    prompt=prompt,\n",
    "    llm=OpenAI(model_name=\"text-davinci-003\", temperature=0),\n",
    "    verbose=True\n",
    ")\n",
    "\n",
    "question = \"What percentage of the total cost of the invoice is from large sprockets?\"\n",
    "\n",
    "llm_chain.predict(pdf_contents=pdf_contents, question=question)"
   ]
  },
  {
   "cell_type": "code",
   "execution_count": null,
   "id": "caf90031",
   "metadata": {},
   "outputs": [],
   "source": []
  }
 ],
 "metadata": {
  "kernelspec": {
   "display_name": "invoice_reader",
   "language": "python",
   "name": "invoice_reader"
  },
  "language_info": {
   "codemirror_mode": {
    "name": "ipython",
    "version": 3
   },
   "file_extension": ".py",
   "mimetype": "text/x-python",
   "name": "python",
   "nbconvert_exporter": "python",
   "pygments_lexer": "ipython3",
   "version": "3.11.1"
  },
  "vscode": {
   "interpreter": {
    "hash": "8db5dfc92e39a440fadf2ca52a64dc73c46cf600435351f1ead7ec128712423c"
   }
  }
 },
 "nbformat": 4,
 "nbformat_minor": 5
}
