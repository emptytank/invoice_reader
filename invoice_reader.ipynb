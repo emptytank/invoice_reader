{
 "cells": [
  {
   "cell_type": "code",
   "execution_count": 17,
   "metadata": {},
   "outputs": [],
   "source": [
    "# Import libraries\n",
    "import PyPDF2\n",
    "import streamlit as st\n",
    "import os\n",
    "import openai\n",
    "from langchain.llms import OpenAI\n",
    "from langchain.prompts import PromptTemplate"
   ]
  },
  {
   "cell_type": "code",
   "execution_count": 24,
   "id": "515464c2",
   "metadata": {},
   "outputs": [],
   "source": [
    "# Get OpenAI API key\n",
    "openai.api_key = os.getenv(\"OPENAI_API_KEY\")"
   ]
  },
  {
   "cell_type": "code",
   "execution_count": 25,
   "id": "31fa61be",
   "metadata": {},
   "outputs": [],
   "source": [
    "# Set OpenAI temperature\n",
    "llm = OpenAI(\n",
    "    model_name=\"text_embedding-ada-002\",\n",
    "    temperature=0.5\n",
    ")"
   ]
  },
  {
   "cell_type": "code",
   "execution_count": 26,
   "id": "5bad4e61",
   "metadata": {},
   "outputs": [],
   "source": [
    "# Set path for pdf file\n",
    "path = \"./src/Invoice1.pdf\""
   ]
  },
  {
   "cell_type": "code",
   "execution_count": 27,
   "id": "c502545f",
   "metadata": {},
   "outputs": [],
   "source": [
    "read_pdf = PyPDF2.PdfReader(path)\n",
    "page = read_pdf.pages[0]\n",
    "page_content = page.extract_text()"
   ]
  },
  {
   "cell_type": "code",
   "execution_count": 28,
   "id": "be3f5eb2",
   "metadata": {},
   "outputs": [],
   "source": [
    "template = \"\"\"You are an accounts payable manager responsible for reading invoices and entering the data into the system. \n",
    "You have been given the following invoice to read and enter the data into the system. \n",
    "Please read the invoice, explain how you arrived at the answer and enter the data into the system.\n",
    "\n",
    "What is the total amount of the {invoice}?\"\"\"\n",
    "\n",
    "prompt = PromptTemplate(\n",
    "    input_variables=['invoice'],\n",
    "    template=template,\n",
    ")"
   ]
  },
  {
   "cell_type": "code",
   "execution_count": 29,
   "id": "48a74fd6",
   "metadata": {},
   "outputs": [
    {
     "name": "stdout",
     "output_type": "stream",
     "text": [
      "You are an accounts payable manager responsible for reading invoices and entering the data into the system. \n",
      "You have been given the following invoice to read and enter the data into the system. \n",
      "Please read the invoice, explain how you arrived at the answer and enter the data into the system.\n",
      "\n",
      "What is the total amount of the Automation Anywhere, Inc.\n",
      "633 River Oaks Parkway, San Jose, CA95134, USA\n",
      "Tel: (509) 222-1234\n",
      "Sold to Ship to Invoice no.\n",
      "Ultron Inc.\n",
      "1801 Toldeo Beach Rd #1189\n",
      "La Salle, Ml 48145\n",
      "1019Ultron Inc. - Receiving Dock\n",
      "6395 N Russel Rd\n",
      "Oak Harbor, OH 4344910266\n",
      "Invoice Date\n",
      "22 Aug 2018\n",
      "Purchase Order\n",
      "26523\n",
      "Quantity Item no. Description Unit Price TaxAmount \n",
      "15 1011 Sprocket - Large 38.50 G 577.50\n",
      "15 1010 Sprocket - Med 18.95 G 284.25\n",
      "15 1009 Sprocket - Small 8.90 G 133.50\n",
      "Subtotal 995.25\n",
      "Taxi (GST) @ 7% 69.67\n",
      "Invoice Amount 1,064.92\n",
      "$\n",
      "Terms: 2% 10 Net 30?\n"
     ]
    }
   ],
   "source": [
    "print(prompt.format(invoice=page_content))"
   ]
  },
  {
   "cell_type": "code",
   "execution_count": null,
   "id": "839998ec",
   "metadata": {},
   "outputs": [],
   "source": []
  }
 ],
 "metadata": {
  "kernelspec": {
   "display_name": "invoice_reader",
   "language": "python",
   "name": "invoice_reader"
  },
  "language_info": {
   "codemirror_mode": {
    "name": "ipython",
    "version": 3
   },
   "file_extension": ".py",
   "mimetype": "text/x-python",
   "name": "python",
   "nbconvert_exporter": "python",
   "pygments_lexer": "ipython3",
   "version": "3.11.1"
  },
  "vscode": {
   "interpreter": {
    "hash": "8db5dfc92e39a440fadf2ca52a64dc73c46cf600435351f1ead7ec128712423c"
   }
  }
 },
 "nbformat": 4,
 "nbformat_minor": 5
}
