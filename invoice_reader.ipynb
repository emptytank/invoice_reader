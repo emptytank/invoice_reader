{
 "cells": [
  {
   "cell_type": "code",
   "execution_count": 1,
   "metadata": {},
   "outputs": [],
   "source": [
    "# Import libraries\n",
    "import streamlit as st\n",
    "import os\n",
    "import openai\n",
    "import PyPDF2\n",
    "from langchain.llms import OpenAI\n",
    "from langchain.prompts import PromptTemplate"
   ]
  },
  {
   "cell_type": "code",
   "execution_count": 12,
   "id": "515464c2",
   "metadata": {},
   "outputs": [],
   "source": [
    "# Get OpenAI API key and set it as an environment variable\n",
    "st.write(\"OPENAI_API_KEY: \", st.secrets[\"OPENAI_API_KEY\"])\n",
    "st.write(os.environ['OPENAI_API_KEY'] == st.secrets[\"OPENAI_API_KEY\"])"
   ]
  },
  {
   "cell_type": "code",
   "execution_count": 13,
   "id": "31fa61be",
   "metadata": {},
   "outputs": [],
   "source": [
    "# Set OpenAI temperature\n",
    "llm = OpenAI(\n",
    "    model_name=\"text-ada-001\",\n",
    "    temperature=0.5\n",
    ")"
   ]
  },
  {
   "cell_type": "code",
   "execution_count": 14,
   "id": "5bad4e61",
   "metadata": {},
   "outputs": [],
   "source": [
    "# Set path for pdf file\n",
    "path = \"./src/Invoice1.pdf\""
   ]
  },
  {
   "cell_type": "code",
   "execution_count": 15,
   "id": "c502545f",
   "metadata": {},
   "outputs": [],
   "source": [
    "read_pdf = PyPDF2.PdfReader(path)\n",
    "page = read_pdf.pages[0]\n",
    "page_content = page.extract_text()"
   ]
  },
  {
   "cell_type": "code",
   "execution_count": null,
   "id": "839998ec",
   "metadata": {},
   "outputs": [],
   "source": []
  }
 ],
 "metadata": {
  "kernelspec": {
   "display_name": "invoice_reader",
   "language": "python",
   "name": "invoice_reader"
  },
  "language_info": {
   "codemirror_mode": {
    "name": "ipython",
    "version": 3
   },
   "file_extension": ".py",
   "mimetype": "text/x-python",
   "name": "python",
   "nbconvert_exporter": "python",
   "pygments_lexer": "ipython3",
   "version": "3.11.1"
  },
  "vscode": {
   "interpreter": {
    "hash": "8db5dfc92e39a440fadf2ca52a64dc73c46cf600435351f1ead7ec128712423c"
   }
  }
 },
 "nbformat": 4,
 "nbformat_minor": 5
}
